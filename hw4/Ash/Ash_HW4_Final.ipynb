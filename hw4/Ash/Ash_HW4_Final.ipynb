{
 "cells": [
  {
   "cell_type": "markdown",
   "metadata": {},
   "source": [
    "grades: 5/5 excellent work!\n",
    "# Homework 4 (Procedural Python with Unit Tests)"
   ]
  },
  {
   "cell_type": "markdown",
   "metadata": {},
   "source": [
    "## Question 1\n",
    "The remove_data() function was **created (and now resides) in the pronto_utils.py file** as it can be considered a utility function. Assuming they exist, it will delete the zip file containing the data, as well as all .csv files and the README.txt file contained in the zip file, if they were extracted.\n",
    "\n",
    "Below we demonstrate its use."
   ]
  },
  {
   "cell_type": "code",
   "execution_count": 1,
   "metadata": {
    "collapsed": false
   },
   "outputs": [],
   "source": [
    "from pronto_utils import get_pronto_data\n",
    "from pronto_utils import remove_data"
   ]
  },
  {
   "cell_type": "markdown",
   "metadata": {},
   "source": [
    "Load the data so it can be removed."
   ]
  },
  {
   "cell_type": "code",
   "execution_count": 2,
   "metadata": {
    "collapsed": false
   },
   "outputs": [
    {
     "name": "stdout",
     "output_type": "stream",
     "text": [
      "downloading open_data_year_one.zip\n"
     ]
    }
   ],
   "source": [
    "get_pronto_data()"
   ]
  },
  {
   "cell_type": "markdown",
   "metadata": {},
   "source": [
    "Now, delete the cached data via the remove_data() function."
   ]
  },
  {
   "cell_type": "code",
   "execution_count": 3,
   "metadata": {
    "collapsed": false
   },
   "outputs": [
    {
     "name": "stdout",
     "output_type": "stream",
     "text": [
      "All possibly existing cached data, including the zip file, has been removed\n"
     ]
    }
   ],
   "source": [
    "remove_data()"
   ]
  },
  {
   "cell_type": "markdown",
   "metadata": {},
   "source": [
    "## Question 2\n",
    "The download_if_needed function was modified to report an error if the URL at which the data is expected to be stored does not exist or the server is not responding. Unlike the function as developed in class, we use the **urllib3** package instead of wget to download the file. As was the case with Question 1, the code for this function was **created (and now resides) in the pronto_utils.py file**.\n",
    "\n",
    "Below we demonstrate its use."
   ]
  },
  {
   "cell_type": "code",
   "execution_count": 4,
   "metadata": {
    "collapsed": true
   },
   "outputs": [],
   "source": [
    "from pronto_utils import download_if_needed"
   ]
  },
  {
   "cell_type": "markdown",
   "metadata": {},
   "source": [
    "First test it with a valid URL."
   ]
  },
  {
   "cell_type": "code",
   "execution_count": 5,
   "metadata": {
    "collapsed": false
   },
   "outputs": [
    {
     "name": "stdout",
     "output_type": "stream",
     "text": [
      "downloading open_data_year_one.zip\n"
     ]
    }
   ],
   "source": [
    "dataURL = 'https://s3.amazonaws.com/pronto-data/open_data_year_one.zip'\n",
    "fileName = 'open_data_year_one.zip'\n",
    "download_if_needed(dataURL,fileName)"
   ]
  },
  {
   "cell_type": "markdown",
   "metadata": {},
   "source": [
    "Since the above correctly downloaded the data, let us now try to download the data from an invalid URL. First, we delete it, and then we try to redownload it from an invalid URL. We expect to get an error message."
   ]
  },
  {
   "cell_type": "code",
   "execution_count": 6,
   "metadata": {
    "collapsed": false
   },
   "outputs": [
    {
     "name": "stdout",
     "output_type": "stream",
     "text": [
      "All possibly existing cached data, including the zip file, has been removed\n"
     ]
    }
   ],
   "source": [
    "remove_data()"
   ]
  },
  {
   "cell_type": "code",
   "execution_count": 8,
   "metadata": {
    "collapsed": false
   },
   "outputs": [
    {
     "name": "stdout",
     "output_type": "stream",
     "text": [
      "downloading open_data_year_one.zip\n",
      "Error! Data not downloaded. <class 'KeyError'>\n"
     ]
    }
   ],
   "source": [
    "invalidURL = 'tps://s3.amazonaws.com/pronto-data/open_data_year_one.zip'\n",
    "fileName = 'open_data_year_one.zip'\n",
    "download_if_needed(invalidURL,fileName)"
   ]
  },
  {
   "cell_type": "markdown",
   "metadata": {},
   "source": [
    "**Note:** In the above cell, the warnings arise due to retrying the download multiple times. Additionally, the URL can be invalid for a variety of reasons (e.g., KeyError, MaxRetryError etc.), hence why we keep the exception handling general. "
   ]
  },
  {
   "cell_type": "markdown",
   "metadata": {},
   "source": [
    "## Question 3\n",
    "This question involved the creation of unit tests. The unit tests were designed to **test** the  **download_if_needed**, **plot_daily_totals**, and **remove_data** functions. The code for the unit tests can be seen in **pronto_utils_test.py**. For the download_if_needed function, we test both the case in which data are present (valid URL) and data are NOT present (invalid URL).\n",
    "\n",
    "In order to run the unit tests, run the following line of code in the terminal:*python pronto_utils_test.py*\n",
    "OR run the magic command below."
   ]
  },
  {
   "cell_type": "code",
   "execution_count": 9,
   "metadata": {
    "collapsed": false
   },
   "outputs": [
    {
     "name": "stderr",
     "output_type": "stream",
     "text": [
      "C:\\Users\\jeash\\Desktop\\CSE_599\\HW4_Ash\\pronto_utils_tester.py:25: ResourceWarning: unclosed <ssl.SSLSocket fd=868, family=AddressFamily.AF_INET, type=SocketKind.SOCK_STREAM, proto=0, laddr=('69.91.187.3', 62765), raddr=('54.231.82.164', 443)>\n",
      "  download_if_needed(validURL,fileName)\n",
      "."
     ]
    },
    {
     "name": "stdout",
     "output_type": "stream",
     "text": [
      "downloading open_data_year_one.zip\n",
      "Error! Data not downloaded. <class 'KeyError'>\n",
      "downloading open_data_year_one.zip\n",
      "open_data_year_one.zip already exists\n",
      "open_data_year_one.zip"
     ]
    },
    {
     "name": "stderr",
     "output_type": "stream",
     "text": [
      "."
     ]
    },
    {
     "name": "stdout",
     "output_type": "stream",
     "text": [
      " already exists\n",
      "All possibly existing cached data, including the zip file, has been removed"
     ]
    },
    {
     "name": "stderr",
     "output_type": "stream",
     "text": [
      "."
     ]
    },
    {
     "name": "stdout",
     "output_type": "stream",
     "text": [
      "\n"
     ]
    },
    {
     "name": "stderr",
     "output_type": "stream",
     "text": [
      "\n",
      "----------------------------------------------------------------------\n",
      "Ran 3 tests in 39.919s\n",
      "\n",
      "OK\n"
     ]
    }
   ],
   "source": [
    "%run pronto_utils_tester.py"
   ]
  },
  {
   "cell_type": "markdown",
   "metadata": {},
   "source": [
    "From the above, we see the 'OK', meaning three of our unit tests have passed."
   ]
  },
  {
   "cell_type": "code",
   "execution_count": null,
   "metadata": {
    "collapsed": true
   },
   "outputs": [],
   "source": []
  }
 ],
 "metadata": {
  "kernelspec": {
   "display_name": "Python 3",
   "language": "python",
   "name": "python3"
  },
  "language_info": {
   "codemirror_mode": {
    "name": "ipython",
    "version": 3
   },
   "file_extension": ".py",
   "mimetype": "text/x-python",
   "name": "python",
   "nbconvert_exporter": "python",
   "pygments_lexer": "ipython3",
   "version": "3.5.1"
  }
 },
 "nbformat": 4,
 "nbformat_minor": 0
}
