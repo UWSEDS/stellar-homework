{
 "cells": [
  {
   "cell_type": "markdown",
   "metadata": {},
   "source": [
    "Grading policies for hw3\n",
    "\n",
    "1pt: clear statement of the problem being investigated\n",
    "\n",
    "1pt: at least two questions that are to be investigated. \n",
    "\n",
    "1pt/plot: one interactive plot for each question, with at least two sliders, check-boxes, or other suitable widgets for each plot\n",
    "\n",
    "1pt: one paragraph (a separate section of your notebook) discussing how you took advantage of the magic commands, shell commands, help functionality, keyboard shortcuts, and other IPython features discussed in lecture\n",
    "\n",
    "Some examples:"
   ]
  },
  {
   "cell_type": "markdown",
   "metadata": {},
   "source": [
    "# Questions\n",
    "\n",
    "## Ash\n",
    "Q1: How does the average hourly number of bikes available change over time when considering all stations?\n",
    "\n",
    "Q2: What types of trends can be observed when considering daily ridership over time, with additional consideration given to user type and weather condition?\n",
    "\n",
    "## Clark\n",
    "Q1: how ride counts vary by gender?\n",
    "Q2: how ride counts vary by gender and weather conditions?\n",
    "\n",
    "## Cogert\n",
    "How does the gender division in ridership compare to the national average? examine this division:\n",
    "Over all of the annual member rides\n",
    "For specific ranges of trip length\n",
    "For specific ranges of rider birth date\n",
    "For specific ranges of trip length & rider birth date.\n",
    "\n",
    "## Cotter\n",
    "Q1: Are commuters more likely to ride in the rain?\n",
    "Q2: How does time of day affect the ratio of annual pass to short-term pass holders?\n",
    "\n",
    "## Curtis\n",
    "Q1: How and to what extent does the day of the week affect trip duration? Does this change with the hour of the day?\n",
    "Q2: How and to what extend does the month of the year affect trip duration? Does this change with the hour of the day?\n",
    "\n",
    "## Faulkner\n",
    "Q1: differentiating the analysis between weekdays and weekends, since this might normalize each sub-analysis to its own scale and thus more clearly divulge any trends. \n",
    "Q2: how these weather effects might be more or less strong in certain of the cycle share's demographics.\n",
    "\n",
    "## Hough\n",
    "Q1: Can I observe any correlation between rider birth year and trip duration?\n",
    "Q2: Can I observe any correlation between rider birth year and trip start time?\n",
    "\n",
    "## Matsen\n",
    "Q1: Investigate the distribution of trip lengths & who the users are\n",
    "Q2, 3: Who takes the bikes out too long and where are they going?\n",
    "\n",
    "## Philip\n",
    "Q1: When are the best times of the day and the best days of the month to be using Pronto, considering the bike traffic?\n",
    "Q2: Who uses Pronto more, men or women? \n",
    "Q3: Who makes more rides through the year, annual or daily pass members?\n"
   ]
  }
 ],
 "metadata": {
  "kernelspec": {
   "display_name": "Python 3",
   "language": "python",
   "name": "python3"
  },
  "language_info": {
   "codemirror_mode": {
    "name": "ipython",
    "version": 3
   },
   "file_extension": ".py",
   "mimetype": "text/x-python",
   "name": "python",
   "nbconvert_exporter": "python",
   "pygments_lexer": "ipython3",
   "version": "3.5.1"
  }
 },
 "nbformat": 4,
 "nbformat_minor": 0
}
