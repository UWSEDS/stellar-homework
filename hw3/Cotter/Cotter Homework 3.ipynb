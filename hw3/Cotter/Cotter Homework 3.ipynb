{
 "cells": [
  {
   "cell_type": "code",
   "execution_count": 1,
   "metadata": {
    "collapsed": false,
    "scrolled": true
   },
   "outputs": [
    {
     "name": "stderr",
     "output_type": "stream",
     "text": [
      "C:\\Users\\Emma\\Anaconda3\\lib\\site-packages\\matplotlib\\__init__.py:872: UserWarning: axes.color_cycle is deprecated and replaced with axes.prop_cycle; please use the latter.\n",
      "  warnings.warn(self.msg_depr % (key, alt_key))\n"
     ]
    }
   ],
   "source": [
    "# grade: 5/5 great work! \n",
    "import numpy as np\n",
    "import pandas as pd\n",
    "import matplotlib.pyplot as plt\n",
    "import seaborn\n",
    "from ipywidgets import interact\n",
    "import homework3_utils as utils\n",
    "%matplotlib inline"
   ]
  },
  {
   "cell_type": "markdown",
   "metadata": {},
   "source": [
    "# Homework 3\n",
    "## Emma DeWitt Cotter\n",
    "## CSE 599\n",
    "\n",
    "## How do seasonal, weekly, and daily variations affect traffic on the Fremont bridge? \n",
    "\n",
    "This assignment investigates how trends on the fremont bridge are affected by temporal variations. Two trends that were observed in homweorks 1 and 2 are as follows:\n",
    "- There are fewer riders on rainy days.\n",
    "- There are fewer riders in the winter.\n",
    "- There are a nearly equal number of northbound and southbound riders.\n",
    "\n",
    "By isolating data during rush hour, during different seasons, and during different days of the week, I will further explore these trends."
   ]
  },
  {
   "cell_type": "markdown",
   "metadata": {},
   "source": [
    "## Import Data\n",
    "\n",
    "- Weather Data is from NOAA National Climactic Data Center\n",
    "- Fremont bridge bike traffic data from www.seattle.gov\n",
    "- Both data sets are indexed by time to simplify further analysis\n",
    "- A new column for total bike traffic (summing northbound and southbound) is created."
   ]
  },
  {
   "cell_type": "code",
   "execution_count": 2,
   "metadata": {
    "collapsed": false,
    "scrolled": true
   },
   "outputs": [
    {
     "name": "stdout",
     "output_type": "stream",
     "text": [
      "open_data_year_one.zip  already exists\n",
      "weather_data.csv  already exists\n"
     ]
    }
   ],
   "source": [
    "weather,trips = utils.load_weather_and_trip_data()"
   ]
  },
  {
   "cell_type": "markdown",
   "metadata": {
    "collapsed": true
   },
   "source": [
    "# Question 1: Are commuters more likely to ride in the rain?\n",
    "\n",
    "Results from homework two showed that overall, there are less bikers crossing Fremont bridge in the rain. This left me wondering - how does the number of riders during rush hour change in the rain, versus weekend/mid-day riders who are more likely riding for exercise or enjoyment. Are commuters more likely to continue to ride in the rain? \n",
    "\n",
    "### Instructions for data manipulation\n",
    "- The free variables are the start and end time of the defined \"rush hour\" or period of interest (blue), and the option to include weekends in the selected period of interest. If \"weekends\" is not selected, Saturdays and Sundays are excluded from the selected data.\n"
   ]
  },
  {
   "cell_type": "code",
   "execution_count": 3,
   "metadata": {
    "collapsed": false,
    "scrolled": true
   },
   "outputs": [
    {
     "name": "stdout",
     "output_type": "stream",
     "text": [
      "There is a  46.96 % difference between rainy and dry days during selected hours\n"
     ]
    },
    {
     "data": {
      "text/plain": [
       "<function __main__.plotPrecipTimes>"
      ]
     },
     "execution_count": 3,
     "metadata": {},
     "output_type": "execute_result"
    },
    {
     "data": {
      "image/png": "[encoded data removed]",
      "text/plain": [
       "<matplotlib.figure.Figure at 0x7b474ea128>"
      ]
     },
     "metadata": {},
     "output_type": "display_data"
    }
   ],
   "source": [
    "hourly_trips = utils.resample_trip_data_hourly(trips)\n",
    "\n",
    "def plotPrecipTimes(startTime,endTime,weekends):\n",
    "    # sum rider count for defined hours\n",
    "    rushHour = hourly_trips[np.logical_and(hourly_trips.index.hour<=endTime,hourly_trips.index.hour>=startTime)].resample('1D',how = 'sum')\n",
    "    rushHour = rushHour.join(weather['PRCP'])\n",
    "\n",
    "    if not(weekends):\n",
    "        rushHour = rushHour[np.logical_and(rushHour.index.weekday!=5,rushHour.index.weekday !=6)]\n",
    "\n",
    "    rain_rushHour = rushHour[rushHour['PRCP']!=0]\n",
    "    dry_rushHour = rushHour[rushHour['PRCP']==0]\n",
    "\n",
    "    bikedataDaily = hourly_trips.resample('1D',how = 'sum').join(weather['PRCP'])\n",
    "    rain_total = bikedataDaily[bikedataDaily['PRCP']!=0].resample('1D',how='sum')\n",
    "    dry_total = bikedataDaily[bikedataDaily['PRCP']==0].resample('1D',how='sum')\n",
    "\n",
    "\n",
    "    rushHourMeans = (rushHour['counts'].mean(),rain_rushHour['counts'].mean(),\n",
    "                     dry_rushHour['counts'].mean())\n",
    "\n",
    "    totalMeans = (bikedataDaily['counts'].mean(),rain_total['counts'].mean(),\n",
    "                 dry_total['counts'].mean())\n",
    "\n",
    "    fig1,ax1 = plt.subplots()\n",
    "    ind = np.arange(3)\n",
    "    width = 0.35\n",
    "    rushHourRects = ax1.bar(ind, rushHourMeans, width, color='b')\n",
    "    totalRects = ax1.bar(ind+width, totalMeans, width, color = 'g')\n",
    "\n",
    "\n",
    "    ax1.set_ylabel('Average Rider Count')\n",
    "    ax1.set_xticks(ind+width)\n",
    "    ax1.set_xticklabels(('All Days','Rainy days','Dry Days'))\n",
    "\n",
    "    ax1.legend((rushHourRects[0],totalRects[0]),('Selected Hours','Entire Day'))\n",
    "\n",
    "    pctdiff_rainy = abs(dry_rushHour['counts'].mean()-rain_rushHour['counts'].mean())/(\n",
    "        (rushHour['counts'].mean()+rain_rushHour['counts'].mean())/2)\n",
    "\n",
    "    print('There is a ', round(pctdiff_rainy*100,2), '% difference between rainy and dry days during selected hours')\n",
    "\n",
    "interact(plotPrecipTimes,startTime=(0,24),endTime=(0,24),weekends=False)"
   ]
  },
  {
   "cell_type": "markdown",
   "metadata": {},
   "source": [
    "### Conclusions:\n",
    "Review of the data indicates that my prediction was correct - there is a smaller percent difference between rainy and dry days during popular commuting hours. For example, there is 35.67% difference from 7-9 AM versus a 46.16% difference from 10 AM - 2 PM.\n",
    "\n",
    "Interestingly, including or discluding weekends does not have a major effect on the difference between rainy and dry day bike usage during morning rush hour. However, it does have a much more notable difference (43.48% vs 51.54%) during evening rush hour (5-7 PM). "
   ]
  },
  {
   "cell_type": "markdown",
   "metadata": {},
   "source": [
    "# Question 2: How does time of day affect the ratio of annual pass to short-term pass holders?\n",
    "\n",
    "The pronto data includes, for each trip, the type of pass holder. I'm curious how trends might be different for annual members and short-term pass holders. Are annual pass members more likely be riding during rush hour than short-term pass holders? Are short term pass holders more likely to be riding on weekends, when tourist activity might be hihger?\n",
    "\n",
    "### Instructions for data manipulation\n",
    "- Select time of day\n",
    "- Select weekends/weekday. If neither or both are selected, all days of the week will be used."
   ]
  },
  {
   "cell_type": "code",
   "execution_count": 4,
   "metadata": {
    "collapsed": false
   },
   "outputs": [
    {
     "name": "stdout",
     "output_type": "stream",
     "text": [
      "There is a  1.27 % difference between annual pass and short-term pass holders during selected hours\n"
     ]
    },
    {
     "data": {
      "text/plain": [
       "<function __main__.plotRiderType>"
      ]
     },
     "execution_count": 4,
     "metadata": {},
     "output_type": "execute_result"
    },
    {
     "data": {
      "image/png": "[encoded data removed]",
      "text/plain": [
       "<matplotlib.figure.Figure at 0x7b4601e780>"
      ]
     },
     "metadata": {},
     "output_type": "display_data"
    }
   ],
   "source": [
    "def plotRiderType(startTime,endTime,weekdays,weekends): \n",
    "    \n",
    "    selected_data = trips[np.logical_and(trips.index.hour<=endTime,trips.index.hour>=startTime)]\n",
    "  \n",
    "    # select days of week\n",
    "    if weekdays and not(weekends):\n",
    "        selected_data = selected_data[np.logical_or(selected_data.index.weekday!=5,selected_data.index.weekday !=6)]\n",
    "    elif weekends and not(weekdays):\n",
    "        selected_data = selected_data[np.logical_or(selected_data.index.weekday==5,selected_data.index.weekday ==6)]\n",
    "    \n",
    "    # resample\n",
    "    #selected_data = selected_data.resample('1D',how='mean')\n",
    "    \n",
    "    passes_selected = selected_data['usertype'].value_counts(sort=False)\n",
    "    passes_all = trips['usertype'].value_counts(sort=False)\n",
    "    \n",
    "    allData = (passes_all[0],passes_all[1])\n",
    "    selected = (passes_selected[0],passes_selected[1])\n",
    "    \n",
    "    fig2,ax2 = plt.subplots()\n",
    "    ind = np.arange(2)\n",
    "    width = 0.5\n",
    "    \n",
    "    selectedData = ax2.bar(ind, selected, width, color='b')\n",
    "    allData = ax2.bar(ind+width, allData, width, color = 'g')\n",
    "    \n",
    "    ax2.set_ylabel('Rider Count')\n",
    "    ax2.set_xticks(ind+width)\n",
    "    ax2.set_xticklabels(('Short Term Passes','Annual Passes'))\n",
    "    \n",
    "    ax2.legend((selectedData[0],allData[0]),('Selected Data','All Data'))\n",
    "\n",
    "    pctdiff = abs(passes_selected[0]-passes_selected[1])/(\n",
    "        (passes_selected[0]+passes_selected[1])/2)\n",
    "\n",
    "    print('There is a ', round(pctdiff*100,2), '% difference between annual pass and short-term pass holders during selected hours')\n",
    "    \n",
    "\n",
    "interact(plotRiderType,startTime = (0,24), endTime = (0,24),weekdays = True,weekends=True)\n",
    "\n"
   ]
  },
  {
   "cell_type": "markdown",
   "metadata": {},
   "source": [
    "### Conclusions\n",
    "\n",
    "There is a strong correlation between time of day/day of week and the type of pass holder. There are many more annual pass holders riding during rush hour, and more short-term passes during the weekends and other hours. This indicates that annual pass holders are likely using the Pronto bikes to commute."
   ]
  },
  {
   "cell_type": "markdown",
   "metadata": {},
   "source": [
    "### Using the iPython Notebook\n",
    "\n",
    "I used many features of the ipython notebook during completion of this homework assignment. Use of keyboard shortcuts greatly improved my speed in typing and navigating between cells. In particular, the CTRL + M command to change a cell format to markdown was very useful. I used the matplotlib inline magic command, which made it easier to edit code and view plots without having to switch between windows. Because I am still getting used to the keyboard shortcuts, the CTRL + M + H help command came in handy to view the list of shortcuts available.  CTRL + M + F was useful for renaming variables when I changed the question that I was asking mid-way through the assignment."
   ]
  },
  {
   "cell_type": "code",
   "execution_count": null,
   "metadata": {
    "collapsed": true
   },
   "outputs": [],
   "source": []
  }
 ],
 "metadata": {
  "kernelspec": {
   "display_name": "Python 3",
   "language": "python",
   "name": "python3"
  },
  "language_info": {
   "codemirror_mode": {
    "name": "ipython",
    "version": 3
   },
   "file_extension": ".py",
   "mimetype": "text/x-python",
   "name": "python",
   "nbconvert_exporter": "python",
   "pygments_lexer": "ipython3",
   "version": "3.5.1"
  }
 },
 "nbformat": 4,
 "nbformat_minor": 0
}
