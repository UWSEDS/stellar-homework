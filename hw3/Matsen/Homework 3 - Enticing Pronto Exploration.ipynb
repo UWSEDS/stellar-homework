{
 "cells": [
  {
   "cell_type": "markdown",
   "metadata": {},
   "source": [
    "grade: 5/5 great work!\n",
    "# Homework 3 - Enticing Pronto Exploration\n",
    "\n",
    "Janet Matsen"
   ]
  },
  {
   "cell_type": "markdown",
   "metadata": {},
   "source": [
    "## Homework Goals: \n",
    "* create a guided, interactive notebook exploration of the Pronto data. \n",
    "* use the interact function (for plotting, etc.) "
   ]
  },
  {
   "cell_type": "markdown",
   "metadata": {},
   "source": [
    "Clear statement of the problem being investigated. (1 pt):\n",
    "\n",
    "** Background **\n",
    "Data for Seattle's Pronto bike share sytem have been made available.  These data include columms for:\n",
    "* trip_id\n",
    "* starttime\n",
    "* stoptime\n",
    "* bikeid\n",
    "* tripduration\n",
    "* from_station_name\n",
    "* to_station_name\n",
    "* from_station_id\n",
    "* to_station_id\n",
    "* usertype\n",
    "* gender\n",
    "* birthyear\n",
    "\n",
    "We are tasked with exploring the data interactively.\n",
    "\n",
    "**Objectives:** \n",
    "1. How many people are using the bikes longer than the expected 30 minute maximum?  How long are the longest trips?\n",
    "2. What types of users keep bikes out \"too long\"?  \n",
    "3. Where are they going? \n"
   ]
  },
  {
   "cell_type": "markdown",
   "metadata": {},
   "source": [
    "### Download the Pronto data\n",
    "\n",
    "Use wget, as we did on class Monday 1/25. "
   ]
  },
  {
   "cell_type": "code",
   "execution_count": 1,
   "metadata": {
    "collapsed": false
   },
   "outputs": [],
   "source": [
    "# import packages used herein\n",
    "import ipywidgets \n",
    "from ipywidgets import interact\n",
    "import os\n",
    "import matplotlib as mpl\n",
    "import matplotlib.pyplot as plt\n",
    "import pandas as pd\n",
    "import seaborn as sns\n",
    "import wget\n",
    "import zipfile\n",
    "\n",
    "%matplotlib inline"
   ]
  },
  {
   "cell_type": "code",
   "execution_count": 2,
   "metadata": {
    "collapsed": false
   },
   "outputs": [
    {
     "name": "stdout",
     "output_type": "stream",
     "text": [
      "1.5.1\n",
      "installed a virtualenv (\"seds\") to be able to use 1.5, which resolved mysterious errors.\n"
     ]
    }
   ],
   "source": [
    "print mpl.__version__\n",
    "print 'installed a virtualenv (\"seds\") to be able to use 1.5, which resolved mysterious errors.'\n",
    "# http://stackoverflow.com/questions/29842264/typeerror-histogram-got-an-unexpected-keyword-argument-new"
   ]
  },
  {
   "cell_type": "markdown",
   "metadata": {},
   "source": [
    "Using the download utils covered in Monday 1/27's lecture:"
   ]
  },
  {
   "cell_type": "code",
   "execution_count": 3,
   "metadata": {
    "collapsed": false
   },
   "outputs": [],
   "source": [
    "def download_pronto_data_if_needed():\n",
    "    \"\"\"\n",
    "    Download pronto data if needed.  \n",
    "    \n",
    "    Detects whether the zip is downloaded, and downloads it to current dir if missing. \n",
    "    \"\"\"\n",
    "    if not os.path.exists('open_data_year_one.zip'):\n",
    "        download_URL = 'https://s3.amazonaws.com/pronto-data/open_data_year_one.zip'\n",
    "        wget.download(download_URL)\n",
    "    print 'existing files:'\n",
    "    !ls  # note: can print multiple files to one line. \n",
    "    \n",
    "def get_pronto_data():\n",
    "    \"\"\"\n",
    "    Fetch pronto data (if needed) and extract trips as dataframe\n",
    "    \"\"\"\n",
    "    download_pronto_data_if_needed()\n",
    "    zf = zipfile.ZipFile('open_data_year_one.zip')\n",
    "    file_handle = zf.open('2015_trip_data.csv')\n",
    "    return pd.read_csv(file_handle)"
   ]
  },
  {
   "cell_type": "markdown",
   "metadata": {},
   "source": [
    "Use the download utilities above to get the pronto data. "
   ]
  },
  {
   "cell_type": "code",
   "execution_count": 4,
   "metadata": {
    "collapsed": false
   },
   "outputs": [
    {
     "name": "stdout",
     "output_type": "stream",
     "text": [
      "existing files:\n",
      "Homework 3 - Enticing Pronto Exploration.ipynb \u001b[34mopen_data_year_one\u001b[m\u001b[m\r\n",
      "\u001b[34mimages\u001b[m\u001b[m                                         open_data_year_one.zip\r\n"
     ]
    }
   ],
   "source": [
    "pronto_data = get_pronto_data()"
   ]
  },
  {
   "cell_type": "markdown",
   "metadata": {},
   "source": [
    "Look at the columns in the data:"
   ]
  },
  {
   "cell_type": "code",
   "execution_count": 5,
   "metadata": {
    "collapsed": false
   },
   "outputs": [
    {
     "name": "stdout",
     "output_type": "stream",
     "text": [
      "trip_id\n",
      "starttime\n",
      "stoptime\n",
      "bikeid\n",
      "tripduration\n",
      "from_station_name\n",
      "to_station_name\n",
      "from_station_id\n",
      "to_station_id\n",
      "usertype\n",
      "gender\n",
      "birthyear\n"
     ]
    }
   ],
   "source": [
    "for col in pronto_data.columns:\n",
    "    print col"
   ]
  },
  {
   "cell_type": "markdown",
   "metadata": {},
   "source": [
    "Define some new handy columns."
   ]
  },
  {
   "cell_type": "code",
   "execution_count": 6,
   "metadata": {
    "collapsed": true
   },
   "outputs": [],
   "source": [
    "# Define some new columns\n",
    "pronto_data['trip minutes'] = pronto_data['tripduration']/60"
   ]
  },
  {
   "cell_type": "markdown",
   "metadata": {},
   "source": [
    "## Questions 1, 2: Investigate the distribution of trip lengths & who the users are"
   ]
  },
  {
   "cell_type": "code",
   "execution_count": 7,
   "metadata": {
    "collapsed": false
   },
   "outputs": [
    {
     "data": {
      "image/png": "[encoded data removed]",
      "text/plain": [
       "<matplotlib.figure.Figure at 0x117c59e10>"
      ]
     },
     "metadata": {},
     "output_type": "display_data"
    }
   ],
   "source": [
    "# First make a static plot to visualize the trip durations. \n",
    "sns.distplot(pronto_data['trip minutes'], norm_hist=False)\n",
    "\n",
    "# make the figure wide:\n",
    "fig = mpl.pyplot.gcf()\n",
    "fig.set_size_inches(10, 3)"
   ]
  },
  {
   "cell_type": "markdown",
   "metadata": {},
   "source": [
    "Are there really trips that take > 400 minutes?  \n",
    " \n",
    "We can investigate this by restricting to times greater than a time specified by a slider. \n",
    "The y-axis will automatically change, allowing us to zoom in. \n",
    "I forced it to keep the same x-axis so it is clear we are looking at only a subset of x-values. "
   ]
  },
  {
   "cell_type": "code",
   "execution_count": 8,
   "metadata": {
    "collapsed": true
   },
   "outputs": [],
   "source": [
    "pronto_data['trip hours'] = pronto_data['tripduration']/60/60"
   ]
  },
  {
   "cell_type": "markdown",
   "metadata": {},
   "source": [
    "Define a function that allows for interactive plotting via the interact module:"
   ]
  },
  {
   "cell_type": "code",
   "execution_count": 9,
   "metadata": {
    "collapsed": false
   },
   "outputs": [
    {
     "name": "stdout",
     "output_type": "stream",
     "text": [
      "-- Note that the both axes are changing as you zoom in! --\n"
     ]
    },
    {
     "data": {
      "text/plain": [
       "<function __main__.plot_distribution_of_ride_times>"
      ]
     },
     "execution_count": 9,
     "metadata": {},
     "output_type": "execute_result"
    },
    {
     "data": {
      "image/png": "[encoded data removed]",
      "text/plain": [
       "<matplotlib.figure.Figure at 0x10ddc24d0>"
      ]
     },
     "metadata": {},
     "output_type": "display_data"
    }
   ],
   "source": [
    "def plot_distribution_of_ride_times(trip_hours, usertype):\n",
    "    '''\n",
    "    Plot the pronto data  \n",
    "    '''\n",
    "    print \"-- Note that the both axes are changing as you zoom in! --\"\n",
    "    # reduce data using slider\n",
    "    plot_data = pronto_data[pronto_data['trip hours'] > trip_hours]\n",
    "    \n",
    "    # subset data based on user-type button. \n",
    "    if usertype == 'Annual Member':\n",
    "        plot_data = plot_data[plot_data['usertype'] == 'Annual Member']\n",
    "    if usertype == 'Short-Term Pass Holder':\n",
    "        plot_data = plot_data[plot_data['usertype'] == 'Short-Term Pass Holder']\n",
    "    if usertype == 'All':\n",
    "        pass\n",
    "    \n",
    "    sns.distplot(plot_data['trip hours'], kde=False, norm_hist=False)\n",
    "    # reduce \n",
    "    fig = mpl.pyplot.gcf()\n",
    "    fig.set_size_inches(10, 3)\n",
    "\n",
    "interact(plot_distribution_of_ride_times, \n",
    "        trip_hours =(0,8), \n",
    "        usertype = ipywidgets.RadioButtons(description = 'user type', \n",
    "                                           options = ['All', 'Annual Member', 'Short-Term Pass Holder', ]))"
   ]
  },
  {
   "cell_type": "markdown",
   "metadata": {},
   "source": [
    "We can see that there are more short-term users who get fees for long trips.  I was almost one of those people when I wanted to use Pronto to take my visiting friends on a cycling tour of Seattle!"
   ]
  },
  {
   "cell_type": "markdown",
   "metadata": {},
   "source": [
    "By the way, how much do these long trips cost?!?\n",
    "\n",
    "Look it up at the [Pronto Website](https://www.prontocycleshare.com/pricing): "
   ]
  },
  {
   "cell_type": "markdown",
   "metadata": {},
   "source": [
    "<img src=\"images/pronto_fees.png\">\n",
    "\n",
    "Let's assume the maxmum fee is $77, as this is the rate you pay for > 8 hours. "
   ]
  },
  {
   "cell_type": "code",
   "execution_count": 10,
   "metadata": {
    "collapsed": false
   },
   "outputs": [
    {
     "name": "stdout",
     "output_type": "stream",
     "text": [
      "Less than 30 minutes: FREE!\n"
     ]
    },
    {
     "data": {
      "text/plain": [
       "<function __main__.calculate_fee>"
      ]
     },
     "execution_count": 10,
     "metadata": {},
     "output_type": "execute_result"
    }
   ],
   "source": [
    "def calculate_fee(minutes=0):\n",
    "    \"\"\"\n",
    "    Use slider below to calculate the fee based on \n",
    "    the number of minutes you have the bike out. \n",
    "    \"\"\"\n",
    "    if minutes <= 30:\n",
    "        print \"Less than 30 minutes: FREE!\"\n",
    "    elif minutes <= 60:\n",
    "        print \"Fee = $2 for < 60 minutes\"\n",
    "    else: \n",
    "        fee = 2\n",
    "        min_past_60 = minutes - 60\n",
    "        fee += min_past_60/30*5\n",
    "        if fee > 77:\n",
    "            print 'Maximum fee ($77) reached!'\n",
    "        else: \n",
    "            print 'Fee = ${} for {} minutes ({} hours)'.format(fee, minutes, minutes/60.)\n",
    "\n",
    "interact(calculate_fee, minutes=(0, 700))"
   ]
  },
  {
   "cell_type": "markdown",
   "metadata": {},
   "source": [
    "## Questions 2, 3: Who takes the bikes out too long and where are they going? "
   ]
  },
  {
   "cell_type": "code",
   "execution_count": 11,
   "metadata": {
    "collapsed": false
   },
   "outputs": [
    {
     "data": {
      "text/plain": [
       "<matplotlib.axes._subplots.AxesSubplot at 0x10ccbc390>"
      ]
     },
     "metadata": {},
     "output_type": "display_data"
    },
    {
     "data": {
      "text/plain": [
       "<function __main__.plot_trip_minutes_by_user>"
      ]
     },
     "execution_count": 11,
     "metadata": {},
     "output_type": "execute_result"
    },
    {
     "data": {
      "image/png": "[encoded data removed]",
      "text/plain": [
       "<matplotlib.figure.Figure at 0x10cc86d90>"
      ]
     },
     "metadata": {},
     "output_type": "display_data"
    }
   ],
   "source": [
    "def plot_trip_minutes_by_user(gender, destination, alpha_value):\n",
    "    plot_data = pronto_data\n",
    "    \n",
    "    # remove all the trips that didn't incur fines. \n",
    "    plot_data = plot_data[plot_data['trip minutes'] > 30]\n",
    "    \n",
    "    # Make a column for (approximate) age:\n",
    "    #print plot_data.birthyear.unique()\n",
    "    # df.dropna(subset = ['column1_name', 'column2_name', 'column3_name'])\n",
    "    plot_data = plot_data.dropna(subset=['birthyear'])\n",
    "    #print plot_data.birthyear.unique()\n",
    "    plot_data['Age'] = 2016 - plot_data['birthyear'].astype('int')\n",
    "\n",
    "    # subset data based on user-type button. \n",
    "    if gender == 'All':\n",
    "        pass\n",
    "    if gender == 'Female':\n",
    "        plot_data = plot_data[plot_data['gender'] == 'Female']\n",
    "    if gender == 'Male':\n",
    "        plot_data = plot_data[plot_data['gender'] == 'Male']\n",
    "    if gender == 'Other':\n",
    "        plot_data = plot_data[plot_data['gender'] == 'Other']\n",
    "    \n",
    "    # Add another set of boxes to let you select popular tourist destinations.\n",
    "    if destination == \"All Destinations\":\n",
    "        pass\n",
    "    if destination == 'Seattle Aquarium / Alaskan Way S & Elliott Bay Trail':\n",
    "        plot_data = plot_data[plot_data['to_station_name'] == 'Seattle Aquarium / Alaskan Way S & Elliott Bay Trail']\n",
    "    if destination == 'Lake Union Park / Valley St & Boren Ave N':\n",
    "        plot_data = plot_data[plot_data['to_station_name'] == 'Lake Union Park / Valley St & Boren Ave N']\n",
    "    if destination == 'Key Arena / 1st Ave N & Harrison St':\n",
    "        plot_data = plot_data[plot_data['to_station_name'] == 'Key Arena / 1st Ave N & Harrison St']\n",
    "    \n",
    "    return plot_data.plot.scatter(x='Age', y='trip minutes', alpha=alpha_value)\n",
    "    \n",
    "# plot_trip_minutes_by_user()\n",
    "\n",
    "interact(plot_trip_minutes_by_user, \n",
    "         alpha_value = (.2, 1.),\n",
    "         gender = ipywidgets.RadioButtons(description = 'gender', \n",
    "                                           options = ['All', 'Male', 'Female', 'Other' ]),\n",
    "         destination = ipywidgets.RadioButtons(description = 'destination', \n",
    "                                           options = [\"All Destinations\",\n",
    "                                                      'Seattle Aquarium / Alaskan Way S & Elliott Bay Trail',\n",
    "                                                     'Lake Union Park / Valley St & Boren Ave N',\n",
    "                                                      'Key Arena / 1st Ave N & Harrison St'\n",
    "                                                     ]))"
   ]
  },
  {
   "cell_type": "markdown",
   "metadata": {},
   "source": [
    "## Summary of Findings:\n",
    "* many people have the bikes out longer than the period that is free (30 minues).  Most of these are day-pass users.  Perhaps they wanted to take a tour of the city and didn't know that was not an intended use case.\n",
    "* Many of the trips last 8 hours, thereby reaching the maximum $77 late fine. \n",
    "* Many of the users like to go to popular tourist destinations.  There are not clear trends for who goes where by rider age in the subset of destinations I investigated. \n"
   ]
  },
  {
   "cell_type": "markdown",
   "metadata": {},
   "source": [
    "## Use of notebook commands, magic commands, shell commands, and other material "
   ]
  },
  {
   "cell_type": "markdown",
   "metadata": {},
   "source": [
    "Some of my new favorite iPython notebook tricks are: \n",
    "* Tab completion of variable and function names.\n",
    "* Converting a cell to markdown (Ctrl-m m)  (perhaps most used shortcut!)\n",
    "* Inserting a new cell above: (Ctrl-m a)\n",
    "* Inserting a new cell above: (Ctrl-m b)\n",
    "* Shell commands from the notebook: I checked the status of my file downloads using the ! to escape a shell command.  E.g.: `! ls`\n",
    "* Ctrl-m dd to delete cells\n",
    "* Ctrl-m a to go to the first position in a cell, Ctrl-m e to go to the last. \n",
    "\n",
    "I have also picked up things we didn't discuss in lecture.  These include: \n",
    "* Formatting the ls command above using back-ticks\n",
    "* Adding the Pronto URL above. \n",
    "* Inserting an image into a markdown cell. \n",
    "* Find and replace all from the Edit menu: shows all proposed changes in one colorful view. \n",
    "* Select multiple cells and move them with the arrows. \n",
    "* Shift tab tab: opens information about arguments for the function you are writing argument for. "
   ]
  },
  {
   "cell_type": "code",
   "execution_count": null,
   "metadata": {
    "collapsed": true
   },
   "outputs": [],
   "source": []
  }
 ],
 "metadata": {
  "kernelspec": {
   "display_name": "Python 3",
   "language": "python",
   "name": "python3"
  },
  "language_info": {
   "codemirror_mode": {
    "name": "ipython",
    "version": 3
   },
   "file_extension": ".py",
   "mimetype": "text/x-python",
   "name": "python",
   "nbconvert_exporter": "python",
   "pygments_lexer": "ipython3",
   "version": "3.5.1"
  }
 },
 "nbformat": 4,
 "nbformat_minor": 0
}
